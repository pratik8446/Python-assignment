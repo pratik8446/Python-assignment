{
 "cells": [
  {
   "cell_type": "code",
   "execution_count": 3,
   "metadata": {},
   "outputs": [
    {
     "data": {
      "text/plain": [
       "[2, 4, 6, 8, 10]"
      ]
     },
     "execution_count": 3,
     "metadata": {},
     "output_type": "execute_result"
    }
   ],
   "source": [
    "'''\n",
    "1. Scenario: You are working with a list of numbers and need to create a new list that contains\n",
    "only the even numbers from the original list.\n",
    "\n",
    "Question: Write a Python oneliner using list comprehension to create a new list containing\n",
    "only the even numbers from the list `[1, 2, 3, 4, 5, 6, 7, 8, 9, 10]`.\n",
    "'''\n",
    "\n",
    "l=[1,2,3,4,5,6,7,8,9,10]\n",
    "l1 = [x for x in l if x % 2 == 0]\n",
    "l1"
   ]
  },
  {
   "cell_type": "code",
   "execution_count": 4,
   "metadata": {},
   "outputs": [
    {
     "name": "stdout",
     "output_type": "stream",
     "text": [
      "Name: Pratik, Age: 24, Gender: Male\n"
     ]
    }
   ],
   "source": [
    "'''2. Scenario: You are creating a class representing a person and want to customize the string\n",
    "representation of the object.\n",
    "\n",
    "Question: Define a class Person with attributes name, age, and gender. Implement the\n",
    "__str__ method to return a string in the format \"Name: {name}, Age: {age}, Gender: {gender}\"\n",
    "'''\n",
    "class Person:\n",
    "    def __init__(self, name, age, gender):\n",
    "        self.name = name\n",
    "        self.age = age\n",
    "        self.gender = gender\n",
    "    \n",
    "    def __str__(self):\n",
    "        return f\"Name: {self.name}, Age: {self.age}, Gender: {self.gender}\"\n",
    "\n",
    "person = Person(\"Pratik\", 24, \"Male\")\n",
    "print(person)\n"
   ]
  },
  {
   "cell_type": "code",
   "execution_count": 7,
   "metadata": {},
   "outputs": [
    {
     "name": "stdout",
     "output_type": "stream",
     "text": [
      "{'userId': 1, 'id': 1, 'title': 'delectus aut autem', 'completed': False}\n"
     ]
    }
   ],
   "source": [
    "'''3.\n",
    "Scenario: You are building a Python script to fetch data from a REST API and process the\n",
    "results.\n",
    "\n",
    "Question: Write a Python function that uses the `requests` library to make a GET request to\n",
    "the URL `https://api.example.com/data` and returns the JSON response.'''\n",
    "import requests\n",
    "\n",
    "def fetch_data_from_api(url):\n",
    "    try:\n",
    "        response = requests.get(url)\n",
    "        response.raise_for_status()\n",
    "        return response.json()\n",
    "    except requests.exceptions.RequestException as e:\n",
    "        print(f\"An error occurred: {e}\")\n",
    "        return None\n",
    "\n",
    "# https://api.example.com/data this website is not running that's why i use json stackholder website\n",
    "url = \"https://jsonplaceholder.typicode.com/todos/1\"\n",
    "data = fetch_data_from_api(url)\n",
    "print(data)\n"
   ]
  },
  {
   "cell_type": "code",
   "execution_count": 10,
   "metadata": {},
   "outputs": [
    {
     "name": "stdout",
     "output_type": "stream",
     "text": [
      "['date', 'apple', 'banana', 'cherry']\n"
     ]
    }
   ],
   "source": [
    "'''4.\n",
    "Scenario: You are working with a list of strings and need to sort them based on their lengths.\n",
    "\n",
    "Question: Write a Python lambda function to use as the `key` parameter in the `sorted`\n",
    "function to sort the list `['apple', 'banana', 'cherry', 'date']` based on the length of each string.'''\n",
    "\n",
    "fruits = ['apple', 'banana', 'cherry', 'date']\n",
    "sorted_fruits = sorted(fruits, key=lambda x: len(x))\n",
    "print(sorted_fruits)\n"
   ]
  },
  {
   "cell_type": "code",
   "execution_count": 11,
   "metadata": {},
   "outputs": [
    {
     "name": "stdout",
     "output_type": "stream",
     "text": [
      "Driving a vehicle.\n",
      "Driving a car.\n",
      "Driving a truck.\n",
      "Driving a motorcycle.\n"
     ]
    }
   ],
   "source": [
    "'''5.\n",
    "Scenario: You are creating a set of classes to represent different types of vehicles. You have a\n",
    "base class `Vehicle` and subclasses `Car`, `Truck`, and `Motorcycle`.\n",
    "\n",
    "Question: Define the `Vehicle` class with a method `drive` that prints \"Driving a vehicle.\"\n",
    "Then, define the subclasses `Car`, `Truck`, and `Motorcycle`, each with their own `drive` method that\n",
    "prints a message specific to that type of vehicle.'''\n",
    "\n",
    "class Vehicle:\n",
    "    def drive(self):\n",
    "        print(\"Driving a vehicle.\")\n",
    "\n",
    "class Car(Vehicle):\n",
    "    def drive(self):\n",
    "        print(\"Driving a car.\")\n",
    "\n",
    "class Truck(Vehicle):\n",
    "    def drive(self):\n",
    "        print(\"Driving a truck.\")\n",
    "\n",
    "class Motorcycle(Vehicle):\n",
    "    def drive(self):\n",
    "        print(\"Driving a motorcycle.\")\n",
    "\n",
    "vehicles = [Vehicle(), Car(), Truck(), Motorcycle()]\n",
    "\n",
    "for vehicle in vehicles:\n",
    "    vehicle.drive()\n"
   ]
  }
 ],
 "metadata": {
  "kernelspec": {
   "display_name": "Python 3",
   "language": "python",
   "name": "python3"
  },
  "language_info": {
   "codemirror_mode": {
    "name": "ipython",
    "version": 3
   },
   "file_extension": ".py",
   "mimetype": "text/x-python",
   "name": "python",
   "nbconvert_exporter": "python",
   "pygments_lexer": "ipython3",
   "version": "3.11.4"
  }
 },
 "nbformat": 4,
 "nbformat_minor": 2
}
